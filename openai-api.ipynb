{
 "cells": [
  {
   "cell_type": "code",
   "execution_count": 9,
   "metadata": {},
   "outputs": [
    {
     "data": {
      "text/plain": [
       "True"
      ]
     },
     "execution_count": 9,
     "metadata": {},
     "output_type": "execute_result"
    }
   ],
   "source": [
    "from  openai import ChatCompletion\n",
    "from dotenv import load_dotenv\n",
    "import os,openai\n",
    "load_dotenv()\n"
   ]
  },
  {
   "attachments": {},
   "cell_type": "markdown",
   "metadata": {},
   "source": [
    "Basic openAI chat completion api"
   ]
  },
  {
   "cell_type": "code",
   "execution_count": 10,
   "metadata": {},
   "outputs": [],
   "source": [
    "openai.api_key = os.environ.get(\"OPENAI_API_KEY\")\n"
   ]
  },
  {
   "cell_type": "code",
   "execution_count": 20,
   "metadata": {},
   "outputs": [
    {
     "name": "stdout",
     "output_type": "stream",
     "text": [
      "Hello! How can I assist you today?\n"
     ]
    }
   ],
   "source": [
    "c = ChatCompletion.create(\n",
    "  model=\"gpt-3.5-turbo\", \n",
    "  messages=[{\"role\": \"user\", \"content\": \"Hii chatgpt\"}]\n",
    ")\n",
    "print(c[\"choices\"][0][\"message\"][\"content\"])"
   ]
  },
  {
   "attachments": {},
   "cell_type": "markdown",
   "metadata": {},
   "source": [
    "Checking if ChatGpt remembers History"
   ]
  },
  {
   "cell_type": "code",
   "execution_count": 21,
   "metadata": {},
   "outputs": [
    {
     "name": "stdout",
     "output_type": "stream",
     "text": [
      "As an AI language model, I am not able to access or recall any previous conversations or messages.\n"
     ]
    }
   ],
   "source": [
    "c = ChatCompletion.create(\n",
    "  model=\"gpt-3.5-turbo\", \n",
    "  messages=[{\"role\": \"user\", \"content\": \"what was my first message\"}]\n",
    ")\n",
    "print(c[\"choices\"][0][\"message\"][\"content\"])"
   ]
  },
  {
   "attachments": {},
   "cell_type": "markdown",
   "metadata": {},
   "source": [
    "### Sending Message history back to chat api"
   ]
  },
  {
   "cell_type": "code",
   "execution_count": 6,
   "metadata": {},
   "outputs": [
    {
     "name": "stdout",
     "output_type": "stream",
     "text": [
      "User's input was:  who owns telsa?\n"
     ]
    }
   ],
   "source": [
    "message_history = []\n",
    "user_input = input(\"> \")\n",
    "print(\"User's input was: \", user_input)"
   ]
  },
  {
   "cell_type": "code",
   "execution_count": 15,
   "metadata": {},
   "outputs": [
    {
     "name": "stdout",
     "output_type": "stream",
     "text": [
      "[{'role': 'user', 'content': 'who owns telsa?'}, {'role': 'user', 'content': 'what else companies does he own?'}, <OpenAIObject at 0x2a9af6d17f0> JSON: {\n",
      "  \"content\": \"Tesla is owned by Elon Musk. Besides Tesla, Elon Musk also owns SpaceX, The Boring Company, Neuralink, and SolarCity. He is also co-founder and CEO of Neuralink and co-founder of OpenAI.\",\n",
      "  \"role\": \"assistant\"\n",
      "}, {'role': 'user', 'content': 'are you a product of any of these companies?'}]\n"
     ]
    }
   ],
   "source": [
    "user_input = input(\"> \")\n",
    "message_history.append({\"role\": \"user\", \"content\": f\"{user_input}\"})\n",
    "print(message_history)"
   ]
  },
  {
   "cell_type": "code",
   "execution_count": 16,
   "metadata": {},
   "outputs": [
    {
     "name": "stdout",
     "output_type": "stream",
     "text": [
      "No, I am not a product of any of these companies. I am an AI language model developed by OpenAI, which is a research organization co-founded by Elon Musk. However, I am not owned by or affiliated with any of Elon Musk’s companies.\n"
     ]
    }
   ],
   "source": [
    "completion = openai.ChatCompletion.create(\n",
    "  model=\"gpt-3.5-turbo\",\n",
    "  messages=message_history\n",
    ")\n",
    "\n",
    "# Now we can print the response:\n",
    "reply_content = completion.choices[0].message.content\n",
    "message_history.append(completion.choices[0].message)\n",
    "print(reply_content)"
   ]
  },
  {
   "attachments": {},
   "cell_type": "markdown",
   "metadata": {},
   "source": [
    "## code for chatting"
   ]
  },
  {
   "cell_type": "code",
   "execution_count": 18,
   "metadata": {},
   "outputs": [
    {
     "name": "stdout",
     "output_type": "stream",
     "text": [
      "User: who is ceo of spaceX?\n",
      "GPT: CEO of SpaceX is Elon Musk.\n",
      "User: what all companies does he own?\n",
      "GPT: Elon Musk is involved in several high-profile companies, some of which he founded and some he co-founded. These companies include:\n",
      "\n",
      "1. Tesla - Electric car company.\n",
      "2. SpaceX - Private space exploration company.\n",
      "3. Neuralink - A company focused on developing brain-machine interfaces (BMIs).\n",
      "4. The Boring Company - Infrastructure company.\n",
      "5. OpenAI - Non-profit research company focused on artificial intelligence (AI).\n",
      "6. PayPal - Online payment company (co-founded by Musk).\n",
      "7. SolarCity - Energy company that provides solar energy systems (co-founded by Musk).\n",
      "\n",
      "Musk also previously co-founded Zip2, an early online city guide and directory for newspapers.\n"
     ]
    },
    {
     "ename": "SystemExit",
     "evalue": "",
     "output_type": "error",
     "traceback": [
      "An exception has occurred, use %tb to see the full traceback.\n",
      "\u001b[1;31mSystemExit\u001b[0m\n"
     ]
    },
    {
     "name": "stderr",
     "output_type": "stream",
     "text": [
      "c:\\Users\\ashis\\git\\openai-api\\.venv\\Lib\\site-packages\\IPython\\core\\interactiveshell.py:3516: UserWarning: To exit: use 'exit', 'quit', or Ctrl-D.\n",
      "  warn(\"To exit: use 'exit', 'quit', or Ctrl-D.\", stacklevel=1)\n"
     ]
    }
   ],
   "source": [
    "import sys\n",
    "from  openai import ChatCompletion\n",
    "from dotenv import load_dotenv\n",
    "import os,openai\n",
    "load_dotenv()\n",
    "openai.api_key = os.environ.get(\"OPENAI_API_KEY\")\n",
    "\n",
    "message_history = []\n",
    "while True:\n",
    "    user_input = input(\"> \")\n",
    "    if user_input == \"exit\":\n",
    "        sys.exit()\n",
    "    print(f\"User: {user_input}\")\n",
    "    message_history.append({\"role\": \"user\", \"content\": f\"{user_input}\"})\n",
    "    completion = openai.ChatCompletion.create(\n",
    "    model=\"gpt-3.5-turbo\",\n",
    "    messages=message_history\n",
    "    )\n",
    "    reply_content = completion.choices[0].message.content\n",
    "    message_history.append(completion.choices[0].message)\n",
    "    print(f\"GPT: {reply_content}\")\n",
    "\n"
   ]
  }
 ],
 "metadata": {
  "kernelspec": {
   "display_name": ".venv",
   "language": "python",
   "name": "python3"
  },
  "language_info": {
   "codemirror_mode": {
    "name": "ipython",
    "version": 3
   },
   "file_extension": ".py",
   "mimetype": "text/x-python",
   "name": "python",
   "nbconvert_exporter": "python",
   "pygments_lexer": "ipython3",
   "version": "3.11.3"
  },
  "orig_nbformat": 4
 },
 "nbformat": 4,
 "nbformat_minor": 2
}
